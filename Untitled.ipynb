{
 "cells": [
  {
   "cell_type": "code",
   "execution_count": 1,
   "metadata": {},
   "outputs": [
    {
     "ename": "ModuleNotFoundError",
     "evalue": "No module named 'matplotlib'",
     "output_type": "error",
     "traceback": [
      "\u001b[0;31m---------------------------------------------------------------------------\u001b[0m",
      "\u001b[0;31mModuleNotFoundError\u001b[0m                       Traceback (most recent call last)",
      "\u001b[0;32m<ipython-input-1-087f3ece414b>\u001b[0m in \u001b[0;36m<module>\u001b[0;34m\u001b[0m\n\u001b[1;32m      1\u001b[0m \u001b[0;31m# libraries\u001b[0m\u001b[0;34m\u001b[0m\u001b[0;34m\u001b[0m\u001b[0;34m\u001b[0m\u001b[0m\n\u001b[0;32m----> 2\u001b[0;31m \u001b[0;32mimport\u001b[0m \u001b[0mmatplotlib\u001b[0m\u001b[0;34m.\u001b[0m\u001b[0mpyplot\u001b[0m \u001b[0;32mas\u001b[0m \u001b[0mplt\u001b[0m\u001b[0;34m\u001b[0m\u001b[0;34m\u001b[0m\u001b[0m\n\u001b[0m\u001b[1;32m      3\u001b[0m \u001b[0;32mimport\u001b[0m \u001b[0mnumpy\u001b[0m \u001b[0;32mas\u001b[0m \u001b[0mnp\u001b[0m\u001b[0;34m\u001b[0m\u001b[0;34m\u001b[0m\u001b[0m\n\u001b[1;32m      4\u001b[0m \u001b[0;32mimport\u001b[0m \u001b[0mpandas\u001b[0m \u001b[0;32mas\u001b[0m \u001b[0mpd\u001b[0m\u001b[0;34m\u001b[0m\u001b[0;34m\u001b[0m\u001b[0m\n\u001b[1;32m      5\u001b[0m \u001b[0;34m\u001b[0m\u001b[0m\n",
      "\u001b[0;31mModuleNotFoundError\u001b[0m: No module named 'matplotlib'"
     ]
    }
   ],
   "source": [
    "# libraries\n",
    "import matplotlib.pyplot as plt\n",
    "import numpy as np\n",
    "import pandas as pd\n",
    " \n",
    "# Data\n",
    "df=pd.DataFrame({'x': range(1,11), 'y1': np.random.randn(10), 'y2': np.random.randn(10)+range(1,11), 'y3': np.random.randn(10)+range(11,21) })\n",
    " \n",
    "# multiple line plot\n",
    "plt.plot( 'x', 'y1', data=df, marker='o', markerfacecolor='blue', markersize=12, color='skyblue', linewidth=4)\n",
    "plt.plot( 'x', 'y2', data=df, marker='', color='olive', linewidth=2)\n",
    "plt.plot( 'x', 'y3', data=df, marker='', color='olive', linewidth=2, linestyle='dashed', label=\"toto\")\n",
    "plt.legend()\n"
   ]
  },
  {
   "cell_type": "code",
   "execution_count": null,
   "metadata": {},
   "outputs": [
    {
     "name": "stdout",
     "output_type": "stream",
     "text": [
      "Collecting package metadata (current_repodata.json): done\n",
      "Solving environment: done\n",
      "\n",
      "## Package Plan ##\n",
      "\n",
      "  environment location: /home/timmy/miniconda3\n",
      "\n",
      "  added / updated specs:\n",
      "    - matplotlib\n",
      "\n",
      "\n",
      "The following packages will be downloaded:\n",
      "\n",
      "    package                    |            build\n",
      "    ---------------------------|-----------------\n",
      "    blas-1.0                   |              mkl           6 KB\n",
      "    ca-certificates-2020.10.14 |                0         121 KB\n",
      "    certifi-2020.6.20          |           py38_0         156 KB\n",
      "    conda-4.8.5                |           py38_0         2.9 MB\n",
      "    cycler-0.10.0              |           py38_0          14 KB\n",
      "    dbus-1.13.18               |       hb2f20db_0         504 KB\n",
      "    expat-2.2.10               |       he6710b0_2         153 KB\n",
      "    fontconfig-2.13.0          |       h9420a91_0         227 KB\n",
      "    freetype-2.10.3            |       h5ab3b9f_0         595 KB\n",
      "    glib-2.66.1                |       h92f7085_0         2.9 MB\n",
      "    gst-plugins-base-1.14.0    |       hbbd80ab_1         4.8 MB\n",
      "    gstreamer-1.14.0           |       hb31296c_0         3.1 MB\n",
      "    icu-58.2                   |       he6710b0_3        10.5 MB\n",
      "    intel-openmp-2020.2        |              254         786 KB\n",
      "    jpeg-9b                    |       h024ee3a_2         214 KB\n",
      "    kiwisolver-1.2.0           |   py38hfd86e86_0          84 KB\n",
      "    lcms2-2.11                 |       h396b838_0         307 KB\n",
      "    libpng-1.6.37              |       hbc83047_0         278 KB\n",
      "    libtiff-4.1.0              |       h2733197_1         449 KB\n",
      "    libuuid-1.0.3              |       h1bed415_2          15 KB\n",
      "    libxcb-1.14                |       h7b6447c_0         505 KB\n",
      "    libxml2-2.9.10             |       he19cac6_1         1.2 MB\n",
      "    lz4-c-1.9.2                |       heb0550a_3         175 KB\n",
      "    matplotlib-3.3.1           |                0          24 KB\n",
      "    matplotlib-base-3.3.1      |   py38h817c723_0         5.1 MB\n",
      "    mkl-2020.2                 |              256       138.3 MB\n",
      "    mkl-service-2.3.0          |   py38he904b0f_0          62 KB\n",
      "    mkl_fft-1.2.0              |   py38h23d657b_0         157 KB\n",
      "    mkl_random-1.1.1           |   py38h0573a6f_0         341 KB\n",
      "    numpy-1.19.1               |   py38hbc911f0_0          21 KB\n",
      "    numpy-base-1.19.1          |   py38hfa32c7d_0         4.2 MB\n",
      "    olefile-0.46               |             py_0          33 KB\n",
      "    openssl-1.1.1h             |       h7b6447c_0         2.5 MB\n",
      "    pcre-8.44                  |       he6710b0_0         212 KB\n",
      "    pillow-8.0.0               |   py38h9a89aac_0         621 KB\n",
      "    pyqt-5.9.2                 |   py38h05f1152_4         4.5 MB\n",
      "    qt-5.9.7                   |       h5867ecd_1        68.5 MB\n",
      "    sip-4.19.13                |   py38he6710b0_0         277 KB\n",
      "    tk-8.6.10                  |       hbc83047_0         3.0 MB\n",
      "    zstd-1.4.5                 |       h9ceee32_0         619 KB\n",
      "    ------------------------------------------------------------\n",
      "                                           Total:       258.3 MB\n",
      "\n",
      "The following NEW packages will be INSTALLED:\n",
      "\n",
      "  blas               pkgs/main/linux-64::blas-1.0-mkl\n",
      "  cycler             pkgs/main/linux-64::cycler-0.10.0-py38_0\n",
      "  dbus               pkgs/main/linux-64::dbus-1.13.18-hb2f20db_0\n",
      "  expat              pkgs/main/linux-64::expat-2.2.10-he6710b0_2\n",
      "  fontconfig         pkgs/main/linux-64::fontconfig-2.13.0-h9420a91_0\n",
      "  freetype           pkgs/main/linux-64::freetype-2.10.3-h5ab3b9f_0\n",
      "  glib               pkgs/main/linux-64::glib-2.66.1-h92f7085_0\n",
      "  gst-plugins-base   pkgs/main/linux-64::gst-plugins-base-1.14.0-hbbd80ab_1\n",
      "  gstreamer          pkgs/main/linux-64::gstreamer-1.14.0-hb31296c_0\n",
      "  icu                pkgs/main/linux-64::icu-58.2-he6710b0_3\n",
      "  intel-openmp       pkgs/main/linux-64::intel-openmp-2020.2-254\n",
      "  jpeg               pkgs/main/linux-64::jpeg-9b-h024ee3a_2\n",
      "  kiwisolver         pkgs/main/linux-64::kiwisolver-1.2.0-py38hfd86e86_0\n",
      "  lcms2              pkgs/main/linux-64::lcms2-2.11-h396b838_0\n",
      "  libpng             pkgs/main/linux-64::libpng-1.6.37-hbc83047_0\n",
      "  libtiff            pkgs/main/linux-64::libtiff-4.1.0-h2733197_1\n",
      "  libuuid            pkgs/main/linux-64::libuuid-1.0.3-h1bed415_2\n",
      "  libxcb             pkgs/main/linux-64::libxcb-1.14-h7b6447c_0\n",
      "  libxml2            pkgs/main/linux-64::libxml2-2.9.10-he19cac6_1\n",
      "  lz4-c              pkgs/main/linux-64::lz4-c-1.9.2-heb0550a_3\n",
      "  matplotlib         pkgs/main/linux-64::matplotlib-3.3.1-0\n",
      "  matplotlib-base    pkgs/main/linux-64::matplotlib-base-3.3.1-py38h817c723_0\n",
      "  mkl                pkgs/main/linux-64::mkl-2020.2-256\n",
      "  mkl-service        pkgs/main/linux-64::mkl-service-2.3.0-py38he904b0f_0\n",
      "  mkl_fft            pkgs/main/linux-64::mkl_fft-1.2.0-py38h23d657b_0\n",
      "  mkl_random         pkgs/main/linux-64::mkl_random-1.1.1-py38h0573a6f_0\n",
      "  numpy              pkgs/main/linux-64::numpy-1.19.1-py38hbc911f0_0\n",
      "  numpy-base         pkgs/main/linux-64::numpy-base-1.19.1-py38hfa32c7d_0\n",
      "  olefile            pkgs/main/noarch::olefile-0.46-py_0\n",
      "  pcre               pkgs/main/linux-64::pcre-8.44-he6710b0_0\n",
      "  pillow             pkgs/main/linux-64::pillow-8.0.0-py38h9a89aac_0\n",
      "  pyqt               pkgs/main/linux-64::pyqt-5.9.2-py38h05f1152_4\n",
      "  qt                 pkgs/main/linux-64::qt-5.9.7-h5867ecd_1\n",
      "  sip                pkgs/main/linux-64::sip-4.19.13-py38he6710b0_0\n",
      "  zstd               pkgs/main/linux-64::zstd-1.4.5-h9ceee32_0\n",
      "\n",
      "The following packages will be UPDATED:\n",
      "\n",
      "  ca-certificates    conda-forge::ca-certificates-2020.6.2~ --> pkgs/main::ca-certificates-2020.10.14-0\n",
      "  tk                                       8.6.8-hbc83047_0 --> 8.6.10-hbc83047_0\n",
      "\n",
      "The following packages will be SUPERSEDED by a higher-priority channel:\n",
      "\n",
      "  certifi            conda-forge::certifi-2020.6.20-py38h9~ --> pkgs/main::certifi-2020.6.20-py38_0\n",
      "  conda              conda-forge::conda-4.8.5-py38h924ce5b~ --> pkgs/main::conda-4.8.5-py38_0\n",
      "  openssl            conda-forge::openssl-1.1.1h-h516909a_0 --> pkgs/main::openssl-1.1.1h-h7b6447c_0\n",
      "\n",
      "\n",
      "Proceed ([y]/n)? "
     ]
    }
   ],
   "source": [
    "!conda install matplotlib"
   ]
  },
  {
   "cell_type": "code",
   "execution_count": null,
   "metadata": {},
   "outputs": [],
   "source": [
    "!y"
   ]
  },
  {
   "cell_type": "code",
   "execution_count": null,
   "metadata": {},
   "outputs": [],
   "source": []
  }
 ],
 "metadata": {
  "kernelspec": {
   "display_name": "Python 3",
   "language": "python",
   "name": "python3"
  },
  "language_info": {
   "codemirror_mode": {
    "name": "ipython",
    "version": 3
   },
   "file_extension": ".py",
   "mimetype": "text/x-python",
   "name": "python",
   "nbconvert_exporter": "python",
   "pygments_lexer": "ipython3",
   "version": "3.8.3"
  }
 },
 "nbformat": 4,
 "nbformat_minor": 4
}
